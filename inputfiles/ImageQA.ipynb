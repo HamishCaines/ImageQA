{
 "cells": [
  {
   "cell_type": "markdown",
   "metadata": {},
   "source": [
    "# ImageQA\n",
    "\n",
    "Assesses the image quality of fits files based on a given set of parameters and 'approves' or 'rejects' each image\n",
    "#### Input files must be in subdirectory named 'inputfiles', output is written to 'approval.out'\n",
    "Current parameters: number of stars in field, FWHM of stars in field\n",
    "\n",
    "Todo: Add more parameters\n"
   ]
  },
  {
   "cell_type": "code",
   "execution_count": 1,
   "metadata": {},
   "outputs": [],
   "source": [
    "import sewpy\n",
    "from astropy.io import fits\n",
    "from os import listdir\n",
    "import json"
   ]
  },
  {
   "cell_type": "code",
   "execution_count": 2,
   "metadata": {},
   "outputs": [],
   "source": [
    "files = listdir('./inputfiles/') #extract input files\n",
    "\n",
    "#define SExtractor parameters\n",
    "sew = sewpy.SEW(params=['X_IMAGE','Y_IMAGE','FLUX_APER(3)','FWHM_IMAGE','FWHM_WORLD'],\n",
    "                config={'DETECT_MINAREA':10, 'PHOT_APERTURES':'5, 10, 20'},\n",
    "                sexpath='sex')"
   ]
  },
  {
   "cell_type": "code",
   "execution_count": 3,
   "metadata": {},
   "outputs": [],
   "source": [
    "def approval(fitsfile):\n",
    "    \"\"\"\n",
    "    Evaluates a FITS image quality based on a set of parameters,\n",
    "    obtained from SExtractor, current set is:\n",
    "    Mean FWHM of objects in field\n",
    "    Number of starts in field\n",
    "    :param fitsfile: fits file to be evaluated\n",
    "    :returns approval: boolean for approval of image\n",
    "    \"\"\"\n",
    "    approval = True #initialise boolean\n",
    "    data = sew(fitsfile) #run SExtractor\n",
    "    table = data['table'] #extract data\n",
    "    FWHM_vals = table['FWHM_IMAGE'] #obtain FWHM column\n",
    "    stars = len(FWHM_vals) #count number of entries\n",
    "    meanFWHM = sum(FWHM_vals)/stars #evaluate mean FWHM\n",
    "    \n",
    "    if stars < 10: #check for stars in field\n",
    "        approval = False\n",
    "    if meanFWHM > 8.0: #check for seeing quality\n",
    "        approval = False\n",
    "\n",
    "    return approval #output result"
   ]
  },
  {
   "cell_type": "code",
   "execution_count": 4,
   "metadata": {},
   "outputs": [
    {
     "name": "stderr",
     "output_type": "stream",
     "text": [
      "Ouch, SExtractor complains :\n",
      "b''\n"
     ]
    },
    {
     "data": {
      "text/plain": [
       "[True, True, True]"
      ]
     },
     "execution_count": 4,
     "metadata": {},
     "output_type": "execute_result"
    }
   ],
   "source": [
    "approvals = [] #initialise array for booleans\n",
    "for file in files: #loop through files\n",
    "    new = approval('./inputfiles/'+file) #evaluate image\n",
    "    approvals.append(new) #add to array\n",
    "approvals"
   ]
  },
  {
   "cell_type": "code",
   "execution_count": 5,
   "metadata": {},
   "outputs": [
    {
     "name": "stdout",
     "output_type": "stream",
     "text": [
      "{'ngc2442_1.fits': True}\n",
      "{'ngc2442_2.fits': True}\n",
      "{'ngc2442_3.fits': True}\n"
     ]
    }
   ],
   "source": [
    "outfile = 'approval.out' #output filename\n",
    "output = open(outfile,'w') #create file\n",
    "\n",
    "for i in range(0,len(files)): #loop through files\n",
    "    new_data = {files[i] : approvals[i]} #create dictionary\n",
    "    new_json = json.dumps(new_data, ensure_ascii=False) #convert to json\n",
    "    output.write(new_json+'\\n') #write to file\n",
    "    print(new_data)\n",
    "output.close()"
   ]
  },
  {
   "cell_type": "code",
   "execution_count": null,
   "metadata": {},
   "outputs": [],
   "source": []
  }
 ],
 "metadata": {
  "kernelspec": {
   "display_name": "Python 3",
   "language": "python",
   "name": "python3"
  },
  "language_info": {
   "codemirror_mode": {
    "name": "ipython",
    "version": 3
   },
   "file_extension": ".py",
   "mimetype": "text/x-python",
   "name": "python",
   "nbconvert_exporter": "python",
   "pygments_lexer": "ipython3",
   "version": "3.6.5"
  }
 },
 "nbformat": 4,
 "nbformat_minor": 2
}
